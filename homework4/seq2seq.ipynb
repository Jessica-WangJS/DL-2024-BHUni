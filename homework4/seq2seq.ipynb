{
  "nbformat": 4,
  "nbformat_minor": 0,
  "metadata": {
    "colab": {
      "provenance": []
    },
    "kernelspec": {
      "name": "python3",
      "display_name": "Python 3"
    },
    "language_info": {
      "name": "python"
    }
  },
  "cells": [
    {
      "cell_type": "markdown",
      "source": [
        "#1"
      ],
      "metadata": {
        "id": "WUkz0rnTHpcq"
      }
    },
    {
      "cell_type": "code",
      "source": [
        "from google.colab import drive\n",
        "drive.mount('./mount')\n"
      ],
      "metadata": {
        "colab": {
          "base_uri": "https://localhost:8080/"
        },
        "id": "H_QxDQwsHrJe",
        "outputId": "5e47093e-5bd9-480d-fb8b-81cc847f4fb1"
      },
      "execution_count": 3,
      "outputs": [
        {
          "output_type": "stream",
          "name": "stdout",
          "text": [
            "Drive already mounted at ./mount; to attempt to forcibly remount, call drive.mount(\"./mount\", force_remount=True).\n"
          ]
        }
      ]
    },
    {
      "cell_type": "markdown",
      "source": [
        "process data"
      ],
      "metadata": {
        "id": "5mEw_j2eIflq"
      }
    },
    {
      "cell_type": "code",
      "source": [
        "\n",
        "import os\n",
        "import re\n",
        "from collections import Counter\n",
        "import torch\n",
        "from torch.utils.data import Dataset, DataLoader\n",
        "from torch.nn.utils.rnn import pad_sequence\n",
        "\n",
        "# 检查是否有GPU\n",
        "device = torch.device(\"cuda\" if torch.cuda.is_available() else \"cpu\")\n",
        "print(f\"Using device: {device}\")\n",
        "\n",
        "# 定义语料库路径\n",
        "corpus_path = './mount/My Drive/Colab Notebooks/BH/1-2/DL/3/chinese_corpus/'\n",
        "\n",
        "# # 读取所有txt文件\n",
        "# texts = []\n",
        "# for file_name in os.listdir(corpus_path):\n",
        "#     if file_name.endswith('.txt'):\n",
        "#         with open(os.path.join(corpus_path, file_name), 'r', encoding='utf-8') as file:\n",
        "#             texts.append(file.read())\n",
        "\n",
        "# 读取‘特定’文件\n",
        "texts = []\n",
        "for file_name in os.listdir(corpus_path):\n",
        "    if '越女剑' in file_name and file_name.endswith('.txt'):\n",
        "        with open(os.path.join(corpus_path, file_name), 'r', encoding='utf-8') as file:\n",
        "            texts.append(file.read())\n",
        "\n",
        "\n",
        "# 合并所有文本\n",
        "corpus = \"\\n\".join(texts)\n",
        "\n",
        "# 使用正则表达式分词\n",
        "tokenizer = Counter(re.findall(r'\\b\\w+\\b', corpus))\n",
        "word_index = {word: idx + 1 for idx, (word, _) in enumerate(tokenizer.items())}\n",
        "total_words = len(word_index) + 1\n",
        "\n",
        "# 分句\n",
        "sentences = corpus.split('\\n')\n",
        "\n",
        "# 创建输入和输出序列\n",
        "input_sequences = []\n",
        "for sentence in sentences:\n",
        "    token_list = [word_index[word] for word in re.findall(r'\\b\\w+\\b', sentence)]\n",
        "    for i in range(1, len(token_list)):\n",
        "        n_gram_sequence = token_list[:i+1]\n",
        "        input_sequences.append(n_gram_sequence)\n",
        "\n",
        "# 填充序列\n",
        "max_sequence_len = max(len(seq) for seq in input_sequences)\n",
        "input_sequences = pad_sequence([torch.tensor(seq) for seq in input_sequences], batch_first=True, padding_value=0)\n",
        "\n",
        "# 创建训练数据\n",
        "xs, labels = input_sequences[:, :-1], input_sequences[:, -1]\n",
        "ys = torch.nn.functional.one_hot(labels, num_classes=total_words).float()\n",
        "\n",
        "class TextDataset(Dataset):\n",
        "    def __init__(self, xs, ys):\n",
        "        self.xs = xs\n",
        "        self.ys = ys\n",
        "\n",
        "    def __len__(self):\n",
        "        return len(self.xs)\n",
        "\n",
        "    def __getitem__(self, idx):\n",
        "        return self.xs[idx], self.ys[idx]\n",
        "\n",
        "dataset = TextDataset(xs, ys)\n",
        "dataloader = DataLoader(dataset, batch_size=32, shuffle=True)\n"
      ],
      "metadata": {
        "colab": {
          "base_uri": "https://localhost:8080/"
        },
        "id": "aBAv36UQHuHD",
        "outputId": "dcc7f5db-d28c-4334-e53b-39c26f9132b7"
      },
      "execution_count": 2,
      "outputs": [
        {
          "output_type": "stream",
          "name": "stdout",
          "text": [
            "Using device: cpu\n"
          ]
        }
      ]
    },
    {
      "cell_type": "markdown",
      "source": [
        "define and train model"
      ],
      "metadata": {
        "id": "zdloKxpjImID"
      }
    },
    {
      "cell_type": "code",
      "source": [
        "import torch.nn as nn\n",
        "import torch.optim as optim\n",
        "\n",
        "class TextGenerationModel(nn.Module):\n",
        "    def __init__(self, total_words, embed_dim, hidden_dim):\n",
        "        super(TextGenerationModel, self).__init__()\n",
        "        self.embedding = nn.Embedding(total_words, embed_dim)\n",
        "        self.lstm = nn.LSTM(embed_dim, hidden_dim, batch_first=True, bidirectional=True)\n",
        "        self.fc = nn.Linear(hidden_dim * 2, total_words)\n",
        "\n",
        "    def forward(self, x):\n",
        "        x = self.embedding(x)\n",
        "        x, _ = self.lstm(x)\n",
        "        x = self.fc(x[:, -1, :])\n",
        "        return x\n",
        "\n",
        "model = TextGenerationModel(total_words, 64, 20).to(device)\n",
        "criterion = nn.CrossEntropyLoss()\n",
        "optimizer = optim.Adam(model.parameters(), lr=0.001)\n",
        "\n",
        "# 训练模型\n",
        "num_epochs = 10  # 为了快速测试，可以将epoch数量减少\n",
        "for epoch in range(num_epochs):\n",
        "    for inputs, targets in dataloader:\n",
        "        inputs, targets = inputs.to(device), targets.to(device)\n",
        "        outputs = model(inputs)\n",
        "        targets = torch.argmax(targets, axis=1)\n",
        "        loss = criterion(outputs, targets)\n",
        "        optimizer.zero_grad()\n",
        "        loss.backward()\n",
        "        optimizer.step()\n",
        "    print(f'Epoch [{epoch+1}/{num_epochs}], Loss: {loss.item():.4f}')\n"
      ],
      "metadata": {
        "colab": {
          "base_uri": "https://localhost:8080/"
        },
        "id": "WqUmhlINIa6b",
        "outputId": "52b63e86-53f5-472e-b2b1-2c1c288995d9"
      },
      "execution_count": 3,
      "outputs": [
        {
          "output_type": "stream",
          "name": "stdout",
          "text": [
            "Epoch [1/10], Loss: 3.6302\n",
            "Epoch [2/10], Loss: 0.2892\n",
            "Epoch [3/10], Loss: 0.0848\n",
            "Epoch [4/10], Loss: 0.0421\n",
            "Epoch [5/10], Loss: 0.0263\n",
            "Epoch [6/10], Loss: 0.0174\n",
            "Epoch [7/10], Loss: 0.0353\n",
            "Epoch [8/10], Loss: 0.0384\n",
            "Epoch [9/10], Loss: 0.0080\n",
            "Epoch [10/10], Loss: 0.0103\n"
          ]
        }
      ]
    },
    {
      "cell_type": "markdown",
      "source": [
        "generate text"
      ],
      "metadata": {
        "id": "JZMylMNmIsqS"
      }
    },
    {
      "cell_type": "code",
      "source": [
        "def generate_text_seq2seq(seed_text, next_words, model, max_sequence_len):\n",
        "    model.eval()\n",
        "    words = re.findall(r'\\b\\w+\\b', seed_text)\n",
        "    for _ in range(next_words):\n",
        "        token_list = [word_index[word] for word in words if word in word_index]\n",
        "\n",
        "        # 保证 token_list 不为空\n",
        "        if not token_list:\n",
        "            continue\n",
        "\n",
        "        token_list = torch.tensor(token_list).unsqueeze(0).to(device)\n",
        "\n",
        "        # 填充序列\n",
        "        token_list = pad_sequence([token_list], batch_first=True, padding_value=0).to(dtype=torch.long).to(device)\n",
        "        token_list = token_list[:, -max_sequence_len+1:]\n",
        "\n",
        "        # 保证输入是2D或3D\n",
        "        if len(token_list.shape) == 3:\n",
        "            token_list = token_list.squeeze(0)\n",
        "\n",
        "        # 跳过序列长度为0的情况\n",
        "        if token_list.shape[1] == 0:\n",
        "            continue\n",
        "\n",
        "        predicted = model(token_list)\n",
        "        predicted = torch.argmax(predicted, axis=-1).item()\n",
        "\n",
        "        # 获取预测的词\n",
        "        output_word = list(word_index.keys())[list(word_index.values()).index(predicted)]\n",
        "        words.append(output_word)\n",
        "    return ' '.join(words)\n",
        "\n",
        "# 生成文本\n",
        "print(generate_text_seq2seq(\"在下\", 50, model, max_sequence_len))\n"
      ],
      "metadata": {
        "colab": {
          "base_uri": "https://localhost:8080/"
        },
        "id": "vI5V0PgOIbsa",
        "outputId": "4baa5e06-fa51-43c1-a009-9bbf4580035d"
      },
      "execution_count": 6,
      "outputs": [
        {
          "output_type": "stream",
          "name": "stdout",
          "text": [
            "在下\n"
          ]
        }
      ]
    }
  ]
}